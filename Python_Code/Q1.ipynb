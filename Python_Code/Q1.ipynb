{
 "cells": [
  {
   "cell_type": "markdown",
   "metadata": {},
   "source": [
    "<h2>Count reads</h2>"
   ]
  },
  {
   "cell_type": "code",
   "execution_count": 1,
   "metadata": {},
   "outputs": [
    {
     "name": "stdout",
     "output_type": "stream",
     "text": [
      "This FASTQ file has 2297280 reads\n"
     ]
    }
   ],
   "source": [
    "with open('./SRR8185316.fastq', 'r') as f:\n",
    "    temp = f.readlines()\n",
    "count = len(temp) // 4\n",
    "print(f\"This FASTQ file has {count} reads\")"
   ]
  },
  {
   "cell_type": "markdown",
   "metadata": {},
   "source": [
    "<h2>First read</h2>"
   ]
  },
  {
   "cell_type": "code",
   "execution_count": 2,
   "metadata": {},
   "outputs": [
    {
     "name": "stdout",
     "output_type": "stream",
     "text": [
      "First read:\n",
      "\n",
      "Identifier: @SRR8185316.1 ERR022075.10741970 length=100\n",
      "\n",
      "Sequence: AGCGGTACACATTATGGGTCTGCTCTCCGCAGGCGGCGTACACAGCCACGAAGATCACATCATGGCGATGGTAGAACTGGCAGCTGAACGCGGCGCAGAA\n",
      "\n",
      "Quality: IIGIIIIIIIIIIIIHIIIIIIIIIIIIIIIII@IHHEHIIIIIIIIIIIHIIHIIIIIIIIGIHIIHFIIEIIGIHHGH@BE3BB>@>>2?@8?>?A@1\n",
      "\n"
     ]
    }
   ],
   "source": [
    "first_read = []\n",
    "with open('./SRR8185316.fastq', 'r') as f:\n",
    "    for i in range(4):\n",
    "        first_read.append(f.readline())\n",
    "print(f\"First read:\\n\\nIdentifier: {first_read[0]}\\nSequence: {first_read[1]}\\nQuality: {first_read[-1]}\")"
   ]
  },
  {
   "cell_type": "markdown",
   "metadata": {},
   "source": [
    "<h2>Find desired sub-sequence</h2>"
   ]
  },
  {
   "cell_type": "code",
   "execution_count": 3,
   "metadata": {},
   "outputs": [
    {
     "name": "stdout",
     "output_type": "stream",
     "text": [
      "Sub-sequence = TTAAATGGAA\n",
      "Occurance = 179\n"
     ]
    }
   ],
   "source": [
    "sub_sequence_target = 'TTAAATGGAA'\n",
    "count = 0\n",
    "for i in range(1, len(temp), 4):\n",
    "    if sub_sequence_target in temp[i]:\n",
    "        count += temp[i].count(sub_sequence_target)\n",
    "print(f\"Sub-sequence = TTAAATGGAA\\nOccurance = {count}\")"
   ]
  },
  {
   "cell_type": "markdown",
   "metadata": {},
   "source": [
    "<h2>Copy first 1000 reads into a new file</h2>"
   ]
  },
  {
   "cell_type": "code",
   "execution_count": 4,
   "metadata": {},
   "outputs": [
    {
     "name": "stdout",
     "output_type": "stream",
     "text": [
      "New file created\n"
     ]
    }
   ],
   "source": [
    "reads = temp[:4000]\n",
    "with open('.\\SRR8185316_first4000.fastq', 'w') as f:\n",
    "    f.writelines(reads)\n",
    "print(\"New file created\")"
   ]
  },
  {
   "cell_type": "markdown",
   "metadata": {},
   "source": [
    "<h2>Boxplot of first 100000 reads</h2>"
   ]
  },
  {
   "cell_type": "code",
   "execution_count": 5,
   "metadata": {},
   "outputs": [
    {
     "data": {
      "text/plain": [
       "Text(0.5, 1.0, 'The Results of Quality Scores')"
      ]
     },
     "execution_count": 5,
     "metadata": {},
     "output_type": "execute_result"
    }
   ],
   "source": [
    "import matplotlib.pyplot as plt\n",
    "import copy\n",
    "\n",
    "\n",
    "reads_boxplot = temp[:400000]  # Stores first 100000 reads\n",
    "quality_phred_scores = []  # Stores phred quality scores of first 100000 reads here\n",
    "offset = 63  # To substract from ASCII numbers\n",
    "\n",
    "# Parse phred scores\n",
    "for i in range(3, 400000, 4):\n",
    "    score = [ord(phred) - offset for phred in reads_boxplot[i]]\n",
    "    quality_phred_scores.append(copy.deepcopy(score))\n",
    "\n",
    "# Boxplots\n",
    "fig, ax = plt.subplots()\n",
    "ax.boxplot(quality_phred_scores)\n",
    "ax.set_xlabel(\"Bases\")\n",
    "ax.set_ylabel(\"Quality Scores\")\n",
    "ax.set_title(\"The Results of Quality Scores\")"
   ]
  },
  {
   "cell_type": "markdown",
   "metadata": {},
   "source": [
    "<h2>Density Plot of reads' lenght</h2>"
   ]
  }
 ],
 "metadata": {
  "kernelspec": {
   "display_name": "Python 3",
   "language": "python",
   "name": "python3"
  },
  "language_info": {
   "codemirror_mode": {
    "name": "ipython",
    "version": 3
   },
   "file_extension": ".py",
   "mimetype": "text/x-python",
   "name": "python",
   "nbconvert_exporter": "python",
   "pygments_lexer": "ipython3",
   "version": "3.11.2"
  }
 },
 "nbformat": 4,
 "nbformat_minor": 2
}
