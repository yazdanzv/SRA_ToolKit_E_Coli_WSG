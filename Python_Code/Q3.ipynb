{
 "cells": [
  {
   "cell_type": "markdown",
   "metadata": {},
   "source": [
    "<h2>BWA Results</h2>\n",
    "<h4>Procedure Explaination</h4>\n",
    "<p>At first I aligned the short reads using BWA and got SAM file and after that converted it to BAM file using samtools and again with using samtools I sorted and indexed the BAM file in this order as you can see the outputs on picture below</p>"
   ]
  },
  {
   "cell_type": "markdown",
   "metadata": {},
   "source": [
    "![BWA outputs](./bwa_no1.png)"
   ]
  },
  {
   "cell_type": "markdown",
   "metadata": {},
   "source": [
    "<h2>Head of SAM (sequence alignment/map) file & brief analysis</h2>"
   ]
  },
  {
   "cell_type": "markdown",
   "metadata": {},
   "source": [
    "![BWA SAM file](./bwa_no2.png)"
   ]
  },
  {
   "cell_type": "markdown",
   "metadata": {},
   "source": [
    "<ul>\n",
    "    <li>Each line after the header lines (lines starting with @) represents a single read alignment.</li>\n",
    "    <li>The <b>QNAME</b> field (first column) contains the query template name, which is the identifier for each read. It is from the given dataset with the identifier SRR8185316 which previously provided in project explaination PDF.</li>\n",
    "    <li>The <b>FLAG</b> field (second column) indicates the bitwise FLAG (each bit is a flag). For example, 0 typically means the read is mapped in a proper pair.</li>\n",
    "    <li>The <b>RNAME</b> field (third column) is the reference sequence name. Here, it is <b>U00096.2</b>, which could correspond to a specific chromosome or contig.</li>\n",
    "    <li>The <b>POS</b> field (fourth column) shows the 1-based leftmost mapping position of the first matching base, which varies among reads, indicating different alignment positions.</li>\n",
    "    <li>The <b>MAPQ</b> field (fifth column) indicates the mapping quality. A value of 60 suggests a high confidence in the mapping location of the read.</li>\n",
    "    <li>The <b>CIGAR</b> string (sixth column) describes how the read aligns with the reference; 100M means all 100 bases in the read match the reference.</li>\n",
    "</ul>"
   ]
  },
  {
   "cell_type": "markdown",
   "metadata": {},
   "source": [
    "<h2>IGV results & output</h2>"
   ]
  },
  {
   "cell_type": "markdown",
   "metadata": {},
   "source": [
    "<h4>IGV output on almost 200bp</h4>"
   ]
  },
  {
   "cell_type": "markdown",
   "metadata": {},
   "source": [
    "![IGV results](./igv_no1.png)"
   ]
  },
  {
   "cell_type": "markdown",
   "metadata": {},
   "source": [
    "<h4>Analysis</h4>\n",
    "<ul>\n",
    "    <li><b>Gray Bars:</b> Each gray bar represents an individual read aligned to the reference. The continuity of a bar indicates a contiguous match to the reference.</li>\n",
    "    <li><b>Colored Bases:</b> Colored sections within the reads indicate mismatches or variations from the reference sequence.</li>\n",
    "    <li><b>Coverage Track:</b> The top track with the dark and light gray areas indicates the depth of coverage at each position. It seems relatively uniform in this region, suggesting even coverage of sequencing reads.</li>\n",
    "    <li><b>Orange Marker:</b> The orange marker might represent a highlighted feature, such as a single nucleotide polymorphism (SNP), insertion, or deletion.</li>\n",
    "    <li><b>Zoom Level:</b> The zoom level indicates that we are looking at a very small segment of the genome, given the base pair range is only a few hundred base pairs wide.</li>\n",
    "</ul>"
   ]
  },
  {
   "cell_type": "markdown",
   "metadata": {},
   "source": [
    "<h2>Flag Stats (Samtools)</h2>\n"
   ]
  },
  {
   "cell_type": "markdown",
   "metadata": {},
   "source": [
    "![Samtools Flag Stats](./samtool_flagstat.png)"
   ]
  },
  {
   "cell_type": "markdown",
   "metadata": {},
   "source": [
    "<h4>Analysis</h4>\n",
    "<ul>\n",
    "    <li><b>Total reads:</b> 2,297,765 reads were processed.</li>\n",
    "    <li><b>Primary alignments:</b> All reads are counted as primary, with none secondary or supplementary, indicating a straightforward alignment without alternative mappings.</li>\n",
    "    <li><b>Mapping rate:</b> 99.87% of reads mapped to the reference, which is extremely high and indicative of good quality data and a reference that closely matches the sequenced organism.</li>\n",
    "    <li><b>Duplicates:</b> No duplicate reads were found.</li>\n",
    "    <li><b>Paired in sequencing:</b> The output does not specify paired-end data, which suggests this may be single-end sequencing data.</li>\n",
    "    <li><b>Properly paired:</b> No data available, possibly due to single-end sequencing.</li>\n",
    "</ul>"
   ]
  },
  {
   "cell_type": "markdown",
   "metadata": {},
   "source": [
    "<h4>Depth provided by samtools</h4>"
   ]
  },
  {
   "cell_type": "markdown",
   "metadata": {},
   "source": [
    "![Depth Samtools](./depth_samtools.png)"
   ]
  },
  {
   "cell_type": "markdown",
   "metadata": {},
   "source": [
    "<h4>Explaination of depth file</h4>\n",
    "<ul>\n",
    "    <li><b>Col no1:</b> Reference sequence ID <u>(U00096.2)</u>.</li>\n",
    "    <li><b>Col no2:</b> Position in the reference sequence.</li>\n",
    "    <li><b>Col no3:</b> Depth of coverage at that position.</li>\n",
    "</ul>"
   ]
  }
 ],
 "metadata": {
  "language_info": {
   "name": "python"
  }
 },
 "nbformat": 4,
 "nbformat_minor": 2
}
