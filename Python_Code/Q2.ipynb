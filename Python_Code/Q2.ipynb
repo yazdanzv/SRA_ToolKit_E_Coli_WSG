{
 "cells": [
  {
   "cell_type": "markdown",
   "metadata": {},
   "source": [
    "<h2>SPAdes Results (Outputs)</h2>\n",
    "<h4>Contigs and Scaffolds Files</h4>\n",
    "<ul>\n",
    "    <li>These are FASTA files typically named <b>contigs.fasta</b> and <b>scaffolds.fasta</b>. Contigs are sequences of DNA that SPAdes was able to assemble without any ambiguity, while scaffolds are sequences where gaps (regions of unknown nucleotides, often represented as 'N's) are included to join contigs based on read pair information.</li>\n",
    "</ul>\n",
    "<h4>Assembly Graphs</h4>\n",
    "<ul>\n",
    "    <li>These are files typically named <b>assembly_graph.fastg</b> or <b>assembly_graph_with_scaffolds.gfa</b>. They represent the connections between contigs as a graph, which can be useful for visualizing the structure of the assembly.</li>\n",
    "</ul>\n",
    "<h4>Quality Metrics</h4>\n",
    "<ul>\n",
    "    <li>After assembly, I had files or sections within files that gave me statistics on the quality of the assembly. Key metrics include:</li>\n",
    "    <ul>\n",
    "        <li><b>N50:</b> This is a statistic that helps to describe the quality of the assembled scaffolds. It is defined as the length for which the collection of all scaffolds of that length or longer contains at least half of the total of the lengths of the scaffolds. A higher N50 value indicates a higher-quality assembly with longer scaffolds.</li>\n",
    "        <li><b>L50:</b> The smallest number of contigs whose length sum makes up 50% of the genome.</li>\n",
    "        <li><b>Total Length:</b> The sum of all scaffolds or contigs lengths, which can give you an idea of the genome coverage.</li>\n",
    "        <li><b>Number of Contigs:</b> A lower number of contigs might indicate a more contiguous assembly, but not necessarily a more accurate one.</li>\n",
    "        <li><b>GC Content:</b> The percentage of the genome that is composed of G (guanine) and C (cytosine) bases.</li>\n",
    "        <li><b>Misassemblies:</b> Information about potentially misassembled regions in the genome.</li>\n",
    "    </ul>\n",
    "    <li><b>Read Alignment:</b> To evaluate the quality of the assembly, reads can be aligned back to the contigs to check for coverage and consistency.</li>\n",
    "</ul>"
   ]
  },
  {
   "cell_type": "markdown",
   "metadata": {},
   "source": [
    "![SPADES output](./SPADES.png)"
   ]
  },
  {
   "cell_type": "markdown",
   "metadata": {},
   "source": [
    "<h2>Quast Results (Output & Report)</h2>\n",
    "<h4>Here is a brief explaination about what Quast do on SPADES results</h4>\n",
    "<ul>\n",
    "    <li><b>Assembly Statistics:</b> QUAST computes basic statistics such as the number of contigs, the size of the largest contig, the total length of the assembly, and N50/L50 metrics. These statistics give a quick overview of the contiguity and size of the assembly.</li>\n",
    "    <li><b>Alignment-Based Metrics:</b> It aligns the assembly to a reference genome if one is provided, and computes alignment-based metrics such as the number of mismatches, indels, and misassemblies. This helps identify potential errors in the assembly.</li>\n",
    "    <li><b>Visualization:</b> QUAST provides visual summaries of the assembly, including plots of the distribution of contig sizes, GC content distribution, and cumulative assembly size.</li>\n",
    "    <li><b>Quality Checks:</b> The tool performs quality checks to identify any problematic areas in the assembly, such as regions with unusually high or low coverage, which could indicate collapsed repeats or misassembled regions.</li>\n",
    "    <li><b>Comparative Analysis:</b> If multiple assemblies are provided (for example, from different assemblers or different parameters), QUAST can compare them side-by-side to help users choose the best assembly based on the computed metrics.</li>\n",
    "</ul>\n",
    "<h4>Conclusion</h4>\n",
    "<p>QUAST does not require the original sequencing reads. It assesses the quality of the assembled sequences, which are the final output of assemblers like SPAdes. It's particularly useful for researchers who want to evaluate the quality of their de novo genome assemblies, to ensure that the data is reliable for downstream biological analysis and interpretation.</p>"
   ]
  }
 ],
 "metadata": {
  "language_info": {
   "name": "python"
  }
 },
 "nbformat": 4,
 "nbformat_minor": 2
}
